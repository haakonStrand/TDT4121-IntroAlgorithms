{
 "cells": [
  {
   "cell_type": "markdown",
   "metadata": {},
   "source": [
    "# Assignment 7 - Network Flow\n",
    "## Edmonds-Karp"
   ]
  },
  {
   "cell_type": "markdown",
   "metadata": {},
   "source": [
    "Below is the array representing the flow network shown in the assignment PDF. Along with it is a list of node labels the node labels."
   ]
  },
  {
   "cell_type": "code",
   "execution_count": 2,
   "metadata": {},
   "outputs": [],
   "source": [
    "capacities = [\n",
    "    #a, b, c, d, e, f\n",
    "    [0, 0, 9, 9, 0, 0],  # a\n",
    "    [9, 0, 0, 4, 5, 0],  # b\n",
    "    [0, 9, 0, 0, 0, 0],  # c\n",
    "    [0, 0, 0, 0, 9, 4],  # d\n",
    "    [0, 0, 3, 0, 0, 9],  # e\n",
    "    [0, 0, 5, 0, 0, 0],  # f\n",
    "]\n",
    "node_labels = [\"a\", \"b\", \"c\", \"d\", \"e\", \"f\"]"
   ]
  },
  {
   "cell_type": "markdown",
   "metadata": {},
   "source": [
    "### Helper Functions\n",
    "First we are going to create a couple helper functions to make implementing the algorithm a little easier, these are already implemented for you. If you decide on storing the path a different way than what is assumed in the function `path_to_str()` you need to update this function such that the output will be the same (this will make it easier for the TAs to verify that your solution is correct)."
   ]
  },
  {
   "cell_type": "code",
   "execution_count": 3,
   "metadata": {},
   "outputs": [
    {
     "name": "stdout",
     "output_type": "stream",
     "text": [
      "[0, 1, 2, 3, 4, 5] => abcdef\n"
     ]
    }
   ],
   "source": [
    "def to_str(node_index: int) -> str:\n",
    "    return node_labels[node_index]\n",
    "\n",
    "\n",
    "def to_index(node_label: str) -> int:\n",
    "    return node_labels.index(node_label)\n",
    "\n",
    "\n",
    "def path_to_str(path: list) -> str:\n",
    "    \"\"\"convert a `path (list[int])` to a easy to read string of the visited nodes\n",
    "    for instance: \"abcdef\"\"\"\n",
    "    if path is None:\n",
    "        return \"None\"\n",
    "    return \"\".join([to_str(node_index) for node_index in path])\n",
    "\n",
    "\n",
    "# Testing the function\n",
    "my_path = [0, 1, 2, 3, 4, 5]\n",
    "print(f\"{my_path} => {path_to_str(my_path)}\")\n"
   ]
  },
  {
   "cell_type": "markdown",
   "metadata": {},
   "source": [
    "Next we create another helper function. This one is python specific to prevent us rewriting our original capacities array. If we don't create a duplicate/separate array the algorithm alters, you will have to rerun the cell that initializes the original array every time you want to rerun your algorithm, which is tedious. Using this function is already included in the `edmonds_karp()` skeleton, just know why we do it. In different languages or circumstances creating the duplicate array might not be necessary."
   ]
  },
  {
   "cell_type": "code",
   "execution_count": 4,
   "metadata": {},
   "outputs": [
    {
     "name": "stdout",
     "output_type": "stream",
     "text": [
      "[[0, 0, 9, 9, 0, 0], [9, 0, 0, 4, 5, 0], [0, 9, 0, 0, 0, 0], [0, 0, 0, 0, 9, 4], [0, 0, 3, 0, 0, 9], [0, 0, 5, 0, 0, 0]]\n",
      "[[0, 0, 9, 9, 0, 0], [9, 0, 0, 4, 5, 0], [0, 9, 0, 0, 0, 0], [0, 0, 0, 0, 9, 4], [0, 0, 3, 0, 0, 9], [0, 0, 5, 0, 0, 0]]\n"
     ]
    }
   ],
   "source": [
    "def duplicate(lst: list) -> list:\n",
    "    \"\"\"Duplicate/make copy of the list given,\n",
    "    should be used to not edit original`capacities` during the algorithm\n",
    "    se we can rerun each cell individually without resetting entire notebook\n",
    "    \n",
    "    Args:\n",
    "        `lst (list[list[int]])`: the list to duplicate\"\"\"\n",
    "    return [row[:] for row in lst]\n",
    "\n",
    "\n",
    "# Testing the function\n",
    "print(f\"{capacities}\\n{duplicate(capacities)}\")\n"
   ]
  },
  {
   "cell_type": "markdown",
   "metadata": {},
   "source": [
    "### Implementing Edmonds-Karp\n",
    "With that out of the way, it's time to implement our Edmonds-Karp algorithm. Edmonds-Karp, put simply, is just Ford-Fulkerson but instead of choosing augmenting paths \"randomly\", the shortest path from the source to the sink is always used, making the output of Edmond-Karp deterministic. To do this we will use our old friend BFS. \n",
    "\n",
    "> Tip: You can reuse your BFS from assignment 2, it should just need some minor tweaks to adapt it to the flow network.\n",
    "\n",
    "Implement the BFS and verify that it finds the shortest path in the given flow network. Note that the function uses the indices of the start/end node in the capacities (`C`) array."
   ]
  },
  {
   "cell_type": "code",
   "execution_count": 24,
   "metadata": {},
   "outputs": [
    {
     "name": "stdout",
     "output_type": "stream",
     "text": [
      "adf\n"
     ]
    }
   ],
   "source": [
    "def BFS(C: list, start: int, end: int) -> str:\n",
    "    \"\"\"\n",
    "    Args:\n",
    "        `C (list[list[int]])`: Capacities\n",
    "        `start (int)`: start index\n",
    "        `end (int)`: end index\n",
    "    \"\"\"\n",
    "\n",
    "    shortest_paths = {\n",
    "        to_str(start) : [start]\n",
    "    }\n",
    "    # nodes already checked\n",
    "    visited = []\n",
    "    # nodes \"discovered\" through the graph, yet to be checked\n",
    "    queue = [start]\n",
    "\n",
    "    while queue:\n",
    "        current_node = queue.pop(0)\n",
    "\n",
    "        if current_node == end:\n",
    "            return shortest_paths[to_str(current_node)]\n",
    "\n",
    "        visited.append(current_node)\n",
    "\n",
    "        for next_node in range(len(C[current_node])):\n",
    "            if C[current_node][next_node] > 0 and next_node not in visited:\n",
    "                queue.append(next_node)\n",
    "\n",
    "                path = shortest_paths[to_str(current_node)].copy()\n",
    "                path.append(next_node)\n",
    "\n",
    "                if to_str(next_node) not in shortest_paths:\n",
    "                    shortest_paths[to_str(next_node)] = path\n",
    "                \n",
    "    return None\n",
    "\n",
    "\n",
    "# Testing the function (from \"a\" to \"f\")\n",
    "path = path_to_str(BFS(capacities, start=to_index(\"a\"), end=to_index(\"f\")))\n",
    "print(path)\n"
   ]
  },
  {
   "cell_type": "markdown",
   "metadata": {},
   "source": [
    "Now that we can find the shortest path, we need to actually increase the flow through this path and update the capacities accordingly.\n",
    "\n",
    "Implement this in the function below. The function should find the correct flow for the given path, update the correct values, and return the flow value."
   ]
  },
  {
   "cell_type": "code",
   "execution_count": 23,
   "metadata": {},
   "outputs": [
    {
     "data": {
      "text/plain": [
       "4"
      ]
     },
     "execution_count": 23,
     "metadata": {},
     "output_type": "execute_result"
    }
   ],
   "source": [
    "def update_capacities(C: list, path: list) -> int:\n",
    "    \"\"\"\n",
    "    Args:\n",
    "        `C (list[list[int]])`: Capacities\n",
    "        `path (list[int])`: path to update capacities along\n",
    "    \"\"\"\n",
    "\n",
    "    bottleneck_value = float(\"inf\")\n",
    "\n",
    "    for i in range(len(path)-1):\n",
    "    \n",
    "        current_index = to_index(path[i])\n",
    "        next_index = to_index(path[i+1])\n",
    "\n",
    "        if C[current_index][next_index] > 0 and (C[current_index][next_index] < bottleneck_value):\n",
    "            bottleneck_value = C[current_index][next_index]\n",
    "\n",
    "\n",
    "    return bottleneck_value\n",
    "\n",
    "update_capacities(capacities, path)"
   ]
  },
  {
   "cell_type": "markdown",
   "metadata": {},
   "source": [
    "We are now all set to implement our Edmonds-Karp algorithm. Implement the function (using the functions created above) to find the maximum flow through the flow network given a source index and a sink index."
   ]
  },
  {
   "cell_type": "code",
   "execution_count": 41,
   "metadata": {},
   "outputs": [
    {
     "name": "stdout",
     "output_type": "stream",
     "text": [
      "Maximum Flow (b-f): 13\n"
     ]
    }
   ],
   "source": [
    "def edmonds_karp(C: list, source: int, sink: int):\n",
    "    \"\"\"\n",
    "    Args:\n",
    "        `C (list[list[int]])`: Capacities\n",
    "        `source (int)`: start index/s\n",
    "        `sink (int)`: end index/t\n",
    "    \"\"\"\n",
    "    C = duplicate(C)  # duplicate to not alter original array\n",
    "    max_flow = 0\n",
    "\n",
    "    while True:\n",
    "        path =  path_to_str(BFS(C, source, sink))\n",
    "        \n",
    "\n",
    "        if path == \"None\":\n",
    "            break\n",
    "\n",
    "        bottleneck_value = update_capacities(C, path)\n",
    "\n",
    "        for i in range(len(path)-1):\n",
    "            current_index = to_index(path[i])\n",
    "            next_index = to_index(path[i+1])\n",
    "\n",
    "            C[current_index][next_index] -= bottleneck_value\n",
    "            C[next_index][current_index] += bottleneck_value\n",
    "\n",
    "        max_flow += bottleneck_value\n",
    "\n",
    "    return max_flow\n",
    "\n",
    "\n",
    "max_flow = edmonds_karp(capacities, source=to_index(\"b\"), sink=to_index(\"f\"))\n",
    "print(f\"Maximum Flow (b-f): {max_flow}\")"
   ]
  },
  {
   "cell_type": "code",
   "execution_count": 42,
   "metadata": {},
   "outputs": [
    {
     "name": "stdout",
     "output_type": "stream",
     "text": [
      "Maximum Flow (a-b) is 9\n",
      "Maximum Flow (a-c) is 17\n",
      "Maximum Flow (a-d) is 13\n",
      "Maximum Flow (a-e) is 14\n",
      "Maximum Flow (a-f) is 13\n",
      "Maximum Flow (b-a) is 9\n",
      "Maximum Flow (b-c) is 17\n",
      "Maximum Flow (b-d) is 13\n",
      "Maximum Flow (b-e) is 14\n",
      "Maximum Flow (b-f) is 13\n",
      "Maximum Flow (c-a) is 9\n",
      "Maximum Flow (c-b) is 9\n",
      "Maximum Flow (c-d) is 9\n",
      "Maximum Flow (c-e) is 9\n",
      "Maximum Flow (c-f) is 9\n",
      "Maximum Flow (d-a) is 8\n",
      "Maximum Flow (d-b) is 8\n",
      "Maximum Flow (d-c) is 8\n",
      "Maximum Flow (d-e) is 13\n",
      "Maximum Flow (d-f) is 13\n",
      "Maximum Flow (e-a) is 8\n",
      "Maximum Flow (e-b) is 8\n",
      "Maximum Flow (e-c) is 8\n",
      "Maximum Flow (e-d) is 8\n",
      "Maximum Flow (e-f) is 12\n",
      "Maximum Flow (f-a) is 5\n",
      "Maximum Flow (f-b) is 5\n",
      "Maximum Flow (f-c) is 5\n",
      "Maximum Flow (f-d) is 5\n",
      "Maximum Flow (f-e) is 5\n"
     ]
    }
   ],
   "source": [
    "# Finding maximum flow between all nodes (used to verify your solution)\n",
    "for i in range(len(capacities)):\n",
    "    for j in range(len(capacities[i])):\n",
    "        if i == j:\n",
    "            continue\n",
    "        max_flow = edmonds_karp(capacities, i, j)\n",
    "        print(f\"Maximum Flow ({to_str(i)}-{to_str(j)}) is {max_flow}\")"
   ]
  }
 ],
 "metadata": {
  "kernelspec": {
   "display_name": "Python 3",
   "language": "python",
   "name": "python3"
  },
  "language_info": {
   "codemirror_mode": {
    "name": "ipython",
    "version": 3
   },
   "file_extension": ".py",
   "mimetype": "text/x-python",
   "name": "python",
   "nbconvert_exporter": "python",
   "pygments_lexer": "ipython3",
   "version": "3.11.5"
  },
  "orig_nbformat": 4
 },
 "nbformat": 4,
 "nbformat_minor": 2
}
