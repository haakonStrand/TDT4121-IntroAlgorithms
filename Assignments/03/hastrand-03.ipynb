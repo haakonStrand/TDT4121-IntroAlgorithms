{
 "cells": [
  {
   "cell_type": "markdown",
   "metadata": {},
   "source": [
    "# Assignment 3 - Graphs"
   ]
  },
  {
   "cell_type": "code",
   "execution_count": 2,
   "metadata": {},
   "outputs": [],
   "source": [
    "import numpy as np"
   ]
  },
  {
   "cell_type": "markdown",
   "metadata": {},
   "source": [
    "### Task 1: BFS to find shortest path\n",
    "\n",
    "For this task we will use the Breadth First Search algorithm to find the shortest path in a directed, unweighted, acyclic graph. The graph is represented by a dictionary where the keys are the nodes and the values are the edges.\n",
    "\n",
    "> Example: ``\"a\": [\"b\", \"c\"]`` means that the node \"a\" has edges to \"b\" and \"c\". To get these edges you can do:\n",
    "> ```python\n",
    "> node = \"a\"\n",
    "> edges = graph[node]\n",
    "> ```\n",
    "\n",
    "The graph below is the one from the assignment description."
   ]
  },
  {
   "cell_type": "code",
   "execution_count": 3,
   "metadata": {},
   "outputs": [],
   "source": [
    "graph: dict = {\n",
    "    \"a\": [\"b\", \"d\"],\n",
    "    \"b\": [\"c\"],\n",
    "    \"c\": [\"f\"],\n",
    "    \"d\": [\"e\"],\n",
    "    \"e\": [\"b\", \"f\"],\n",
    "    \"f\": [],\n",
    "}"
   ]
  },
  {
   "cell_type": "markdown",
   "metadata": {},
   "source": [
    "Your task is to implement the `BFS()` function described below. The function takes the graph, a start node and an end node as input and returns the shortest path between the two nodes as a list.\n",
    "\n",
    "> Tip: In order to find the shortest path to the end node you need to keep track of the shortest path to all the nodes you discover during your search. This can also be done in a dictionary. As an example below you see that the shortest path to the start node is only itself as the path to it from itself is the shortest path. You will also need to keep track of which nodes are visited, and which nodes you should visit next. \n",
    "> ```python\n",
    "> shortest_paths = {\n",
    ">     start_node: [start_node],\n",
    "> }\n",
    "> ```"
   ]
  },
  {
   "cell_type": "code",
   "execution_count": 4,
   "metadata": {},
   "outputs": [
    {
     "name": "stdout",
     "output_type": "stream",
     "text": [
      "['b', 'c', 'f']\n"
     ]
    }
   ],
   "source": [
    "def BFS(graph: dict, start_node: str, end_node: str) -> list:\n",
    "    shortest_paths = {\n",
    "        start_node: [start_node],\n",
    "    }\n",
    "    # nodes already checked\n",
    "    visited = []\n",
    "    # nodes \"discovered\" through the graph, yet to be checked\n",
    "    queue = [start_node]\n",
    "\n",
    "    # Runs while queue is not empty\n",
    "    while queue:\n",
    "        # Collects the next node(s) from current node\n",
    "        next_nodes = graph[queue[0]]\n",
    "\n",
    "        # Iterate through nodes that connect to current node\n",
    "        for node in next_nodes:\n",
    "            queue.append(node)\n",
    "\n",
    "            #If node has not been visited, the path is saved\n",
    "            if node not in visited:\n",
    "                path = shortest_paths[queue[0]].copy() # Copy to make sure lists from memory is used\n",
    "                path.append(node)\n",
    "                shortest_paths[node] = path\n",
    "                visited.append(node)\n",
    "                    \n",
    "        queue.pop(0)\n",
    "\n",
    "    return shortest_paths[end_node]\n",
    "\n",
    "\n",
    "# Testing the function\n",
    "shortest_path = BFS(graph, \"b\", \"f\")\n",
    "print(shortest_path)"
   ]
  },
  {
   "cell_type": "markdown",
   "metadata": {},
   "source": [
    "### Task 2: Algorithm to find all topological orders\n",
    "\n",
    "In this task you will implement an algorithm to find all topological orders of a directed, unweighted, acyclic graph. The graph is represented the same as in the previous task. "
   ]
  },
  {
   "cell_type": "code",
   "execution_count": 5,
   "metadata": {},
   "outputs": [],
   "source": [
    "graph: dict = {\n",
    "    \"a\": [\"c\", \"d\"],\n",
    "    \"b\": [\"d\", \"e\"],\n",
    "    \"c\": [\"f\"],\n",
    "    \"d\": [],\n",
    "    \"e\": [],\n",
    "    \"f\": [\"e\"],\n",
    "}"
   ]
  },
  {
   "cell_type": "markdown",
   "metadata": {},
   "source": [
    "The algorithm works as follows:\n",
    "\n",
    "- We keep track of the number of incoming edges for each node.\n",
    "- We iterate over all the nodes in the graph, \n",
    "  - recursively call the function\n",
    "\n",
    "To start, first implement a function that counts the number of incoming edges for each node. The function should return a dictionary where the keys are the nodes and the values are the number of incoming edges.\n",
    "\n",
    "> Example: \n",
    "> ``{'a': 0, 'b': 2, 'c': 1}``"
   ]
  },
  {
   "cell_type": "code",
   "execution_count": 6,
   "metadata": {},
   "outputs": [
    {
     "name": "stdout",
     "output_type": "stream",
     "text": [
      "{'a': 0, 'b': 0, 'c': 1, 'd': 2, 'e': 2, 'f': 1}\n"
     ]
    }
   ],
   "source": [
    "def find_incoming_edges(graph: dict) -> dict:\n",
    "    incoming_edges = {}\n",
    "\n",
    "    #initiate incoming_edges\n",
    "    for key in graph.keys():\n",
    "        incoming_edges[key] = 0\n",
    "\n",
    "    for node in graph:\n",
    "        for child in graph[node]:\n",
    "            incoming_edges[child] += 1\n",
    "\n",
    "    return incoming_edges\n",
    "\n",
    "\n",
    "# Testing the function\n",
    "incoming_edges = find_incoming_edges(graph)\n",
    "print(incoming_edges)"
   ]
  },
  {
   "cell_type": "markdown",
   "metadata": {},
   "source": [
    "Next you have to implement the recursive function that will find all topological orders. To guide you, parts of the function are already implemented, your job is to implement what is described in the \"TODO\" comments. The result of the function should a list of strings, where each string is a topological order of the graph.\n",
    "\n",
    "> Example: ``[\"abcde\", \"abedc\", \"abdec\"]`` for a graph with 3 topological orders."
   ]
  },
  {
   "cell_type": "code",
   "execution_count": 7,
   "metadata": {},
   "outputs": [
    {
     "name": "stdout",
     "output_type": "stream",
     "text": [
      "Found 13 topological orderings:\n",
      "abcdfe\n",
      "abcfde\n",
      "abcfed\n",
      "abdcfe\n",
      "acbdfe\n",
      "acbfde\n",
      "acbfed\n",
      "acfbde\n",
      "acfbed\n",
      "bacdfe\n",
      "bacfde\n",
      "bacfed\n",
      "badcfe\n"
     ]
    }
   ],
   "source": [
    "def find_all_topological_orders(\n",
    "    graph: dict,\n",
    "    incoming_edges: dict = incoming_edges,\n",
    "    visited: list = [],\n",
    "    path: list = [],\n",
    ") -> list:\n",
    "\n",
    "    topological_orders = []\n",
    "\n",
    "    for node in graph.keys():\n",
    "\n",
    "        # TODO We only want to check nodes that dont have incoming edges,\n",
    "        # and haven't already been visited\n",
    "        if incoming_edges[node] != 0 or node in visited:\n",
    "            continue\n",
    "\n",
    "        # TODO \"remove\" the edges coming from the visited node (decrease incoming_edge count for the edges)\n",
    "        # and add the node to the path while setting it as visited\n",
    "        path.append(node)\n",
    "        visited.append(node)\n",
    "\n",
    "        for child in graph[node]:\n",
    "            incoming_edges[child] -= 1\n",
    "\n",
    "        # Recursively do this with the graph that now has the node \"removed\"\n",
    "        topological_orders.extend(\n",
    "            find_all_topological_orders(\n",
    "                graph,\n",
    "                incoming_edges,\n",
    "                visited,\n",
    "                path,\n",
    "            )\n",
    "        )\n",
    "\n",
    "        # TODO backtrack:\n",
    "        # We want to reset the changes we made above the recursive call so we can check other options\n",
    "\n",
    "        visited.remove(node)\n",
    "        path.pop()\n",
    "\n",
    "        for child in graph[node]:\n",
    "            incoming_edges[child] += 1\n",
    "\n",
    "    # If the path includes all nodes in the graph, we have a valid topological order\n",
    "    if len(path) == len(graph.keys()):\n",
    "        topological_orders.append(\"\".join(path))\n",
    "\n",
    "    return topological_orders\n",
    "\n",
    "\n",
    "# Testing the function\n",
    "orders = find_all_topological_orders(graph)\n",
    "print(f\"Found {len(orders)} topological orderings:\")\n",
    "for order in orders:\n",
    "    print(order)"
   ]
  }
 ],
 "metadata": {
  "kernelspec": {
   "display_name": "Python 3 (ipykernel)",
   "language": "python",
   "name": "python3"
  },
  "language_info": {
   "codemirror_mode": {
    "name": "ipython",
    "version": 3
   },
   "file_extension": ".py",
   "mimetype": "text/x-python",
   "name": "python",
   "nbconvert_exporter": "python",
   "pygments_lexer": "ipython3",
   "version": "3.11.2"
  },
  "vscode": {
   "interpreter": {
    "hash": "aee8b7b246df8f9039afb4144a1f6fd8d2ca17a180786b69acc140d282b71a49"
   }
  }
 },
 "nbformat": 4,
 "nbformat_minor": 4
}
