{
 "cells": [
  {
   "cell_type": "markdown",
   "metadata": {},
   "source": [
    "# Assignment 9 - NP and Computational Intractability\n",
    "## Part 2 - Coloring"
   ]
  },
  {
   "cell_type": "markdown",
   "metadata": {},
   "source": [
    "#### Problem Description\n",
    "We want to create a naive recursive solution to the graph coloring problem. We will imagine the graph as a map of cities, and we want to color it in with $k$ different colors without any two bordering cities having the same color. We will represent the map with an [adjecency matrix](https://en.wikipedia.org/wiki/Adjacency_matrix). \n",
    "\n",
    "This matrix will be a 2D python list of `1` and `0` (can be interpreted as `True` and `False`) where if `city 0` is a neighbor with only city `2`, its list of neighbors will be `[0, 0, 1, 0, ...]`\n",
    "\n",
    "We'll also keep track of the colors using a basic list of integers, where different numbers represent different colors. When the algorithm finishes `city 0`, will use the color with index `0` from this list etc."
   ]
  },
  {
   "cell_type": "markdown",
   "metadata": {},
   "source": [
    "### 1 - Printing the colors \n",
    "Let's start by making a simple print function that prints out the colors of each city in the map."
   ]
  },
  {
   "cell_type": "code",
   "execution_count": 4,
   "metadata": {},
   "outputs": [
    {
     "name": "stdout",
     "output_type": "stream",
     "text": [
      "City 0 : green\n",
      "City 1 : blue\n",
      "City 2 : blue\n",
      "City 3 : yellow\n"
     ]
    }
   ],
   "source": [
    "def print_city_colors(color_ids: list) -> None:\n",
    "    \"\"\"\n",
    "    Args:\n",
    "        `color_ids (list[int])`: list of integer color ids\n",
    "    \"\"\"\n",
    "    colors = [\"red\", \"green\", \"blue\", \"yellow\", \"orange\", \"purple\", \"white\", \"black\"]\n",
    "    # TODO format and print a string that shows the color of each city\n",
    "    for index, id in enumerate(color_ids):\n",
    "        print(f\"City {index} : {colors[id]}\")\n",
    "    \n",
    "\n",
    "# Test the function\n",
    "print_city_colors([1, 2, 2, 3])\n"
   ]
  },
  {
   "cell_type": "markdown",
   "metadata": {},
   "source": [
    "Expected output (or a variation depending on your preference): \n",
    "```\n",
    "City 0: green\n",
    "City 1: blue\n",
    "City 2: blue\n",
    "City 3: yellow\n",
    "```"
   ]
  },
  {
   "cell_type": "markdown",
   "metadata": {},
   "source": [
    "### 2 - Checking if a coloring is correct\n",
    "Next we want to verify that a coloring we've made is correct, this is done with our function `verify_coloring()`\n",
    "\n",
    "This is done by looping through the `city_map` and for each city, looping through all possible neighbors and check: \n",
    "- that it is in fact a neighbor\n",
    "- that the city and neighbor does not have the same color"
   ]
  },
  {
   "cell_type": "code",
   "execution_count": 55,
   "metadata": {},
   "outputs": [
    {
     "name": "stdout",
     "output_type": "stream",
     "text": [
      "True\n",
      "True\n",
      "False\n"
     ]
    }
   ],
   "source": [
    "def verify_coloring(city_map: list, colors: list) -> bool:\n",
    "    \"\"\"\n",
    "    Args:\n",
    "        `city_map (list[list[int]])`: Adjacency Matrix\n",
    "        `colors (list[int])`: list of integer color ids\n",
    "    Return:\n",
    "        `bool`: False if two neighbors have the same color, True otherwise\n",
    "    \"\"\"\n",
    "    for node, row in enumerate(city_map):\n",
    "        for neighbor, has_edge in enumerate(row):\n",
    "            if (has_edge == True) and (colors[node] == colors[neighbor]):\n",
    "                return False\n",
    "    return True\n",
    "\n",
    "\n",
    "# Test to see if the verification works, see expected output below\n",
    "test_city_map = [\n",
    "    [0, 0, 1, 0, 1],\n",
    "    [0, 0, 1, 1, 1],\n",
    "    [1, 1, 0, 1, 0],\n",
    "    [0, 1, 1, 0, 1],\n",
    "    [1, 1, 0, 1, 0],\n",
    "]\n",
    "test_colors = [1, 1, 2, 3, 2]\n",
    "print(verify_coloring(test_city_map, test_colors))\n",
    "\n",
    "test_city_map = [\n",
    "    [0, 1, 0, 1, 1, 0],\n",
    "    [1, 0, 0, 0, 1, 1],\n",
    "    [0, 0, 0, 0, 1, 1],\n",
    "    [1, 0, 0, 0, 1, 0],\n",
    "    [1, 1, 1, 1, 0, 0],\n",
    "    [0, 1, 1, 0, 0, 0],\n",
    "]\n",
    "test_colors = [1, 2, 2, 2, 3, 1]\n",
    "print(verify_coloring(test_city_map, test_colors))\n",
    "\n",
    "test_city_map = [\n",
    "    [0, 0, 1, 0, 1],\n",
    "    [0, 0, 1, 1, 1],\n",
    "    [1, 1, 0, 1, 0],\n",
    "    [0, 1, 1, 0, 1],\n",
    "    [1, 1, 0, 1, 0],\n",
    "]\n",
    "test_colors = [1, 1, 2, 3, 3, 3]\n",
    "print(verify_coloring(test_city_map, test_colors))\n"
   ]
  },
  {
   "cell_type": "markdown",
   "metadata": {},
   "source": [
    "Expected output: \n",
    "```\n",
    "True\n",
    "True\n",
    "False\n",
    "```"
   ]
  },
  {
   "cell_type": "markdown",
   "metadata": {},
   "source": [
    "### 3 - Making the recursive function \n",
    "Next we want to make the recursive function, since this is a naive approach, we check every color combination $k$ colors until we find the correct solution with our `verify_coloring()` function.\n",
    "\n",
    "We do this with the following pseudocode\n",
    "```\n",
    "color_cities(map, i , k, colors)\n",
    "    if i == map.size:\n",
    "        return true if the color combination works \n",
    "        else return false\n",
    "    for j = 1, 2, ..., k+1:\n",
    "        colors[i] = j\n",
    "        do a recursive call and increase the value of i\n",
    "        if recursive call == True:\n",
    "            return True\n",
    "        colors[i] = 0\n",
    "    return False\n",
    "```\n",
    "We have create the code that starts these recursive calls for you.\n",
    "\n"
   ]
  },
  {
   "cell_type": "code",
   "execution_count": 52,
   "metadata": {},
   "outputs": [],
   "source": [
    "def color_cities_recursive(city_map: list, i: int, k: int, colors: list) -> bool:\n",
    "    \"\"\"\n",
    "    Args:\n",
    "        `city_map (list[list[int]])`: Adjacency Matrix\n",
    "        `i (int)`: index of city\n",
    "        `k (int)`: number of allowed colors\n",
    "        `colors (list[int])`: list of integer color ids\n",
    "    Return:\n",
    "        `bool`: True if *k* colors works, False otherwise\n",
    "    \"\"\"\n",
    "    if i == len(city_map):\n",
    "        return (k == len(set(colors))) & verify_coloring(city_map,colors)\n",
    "    \n",
    "    for j in range(1,k+1):\n",
    "        colors[i] = j\n",
    "        if color_cities_recursive(city_map, i+1, k, colors):\n",
    "            return True\n",
    "        colors[i] = 0\n",
    "    return False\n",
    "\n",
    "\n",
    "def color_cities(city_map: list, k: int) -> None:\n",
    "    \"\"\"\n",
    "    Args:\n",
    "        `city_map (list[list[int]])`: Adjacency Matrix\n",
    "        `k (int)`: number of allowed colors\n",
    "    \"\"\"\n",
    "    # We start at index 0\n",
    "    i = 0\n",
    "    # Initialize all the colors to 0\n",
    "    colors = [0 for _ in range(len(city_map))]\n",
    "\n",
    "    coloring_exists = color_cities_recursive(city_map, i, k, colors)\n",
    "    if coloring_exists:\n",
    "        # colors will have been changed in the recursive call\n",
    "        print(f\"Found solution with {k} colors:\")\n",
    "        print_city_colors(colors)\n",
    "    else:\n",
    "        print(f\"Solution with {k} colors does not exist\")\n",
    "        \n"
   ]
  },
  {
   "cell_type": "markdown",
   "metadata": {},
   "source": [
    "### Running the algorithm\n",
    "Below is a main function to check if the algorithm works as intended."
   ]
  },
  {
   "cell_type": "code",
   "execution_count": 53,
   "metadata": {},
   "outputs": [
    {
     "name": "stdout",
     "output_type": "stream",
     "text": [
      "Solution with 2 colors does not exist\n",
      "Found solution with 3 colors:\n",
      "City 0 : green\n",
      "City 1 : blue\n",
      "City 2 : green\n",
      "City 3 : blue\n",
      "City 4 : yellow\n",
      "City 5 : yellow\n"
     ]
    }
   ],
   "source": [
    "def main():\n",
    "    city_map = [\n",
    "        [0, 1, 0, 1, 1, 0],\n",
    "        [1, 0, 0, 0, 1, 1],\n",
    "        [0, 0, 0, 0, 1, 1],\n",
    "        [1, 0, 0, 0, 1, 0],\n",
    "        [1, 1, 1, 1, 0, 0],\n",
    "        [0, 1, 1, 0, 0, 0],\n",
    "    ]\n",
    "\n",
    "    color_cities(city_map, k=2)\n",
    "    color_cities(city_map, k=3)\n",
    "\n",
    "\n",
    "main()\n"
   ]
  },
  {
   "cell_type": "markdown",
   "metadata": {},
   "source": [
    "Expected output:\n",
    "```\n",
    "Solution with 2 colors does not exist\n",
    "Found solution with 3 colors:\n",
    "City 0: green\n",
    "City 1: blue\n",
    "City 2: green\n",
    "City 3: blue\n",
    "City 4: yellow\n",
    "City 5: yellow\n",
    "```"
   ]
  }
 ],
 "metadata": {
  "kernelspec": {
   "display_name": "Python 3",
   "language": "python",
   "name": "python3"
  },
  "language_info": {
   "codemirror_mode": {
    "name": "ipython",
    "version": 3
   },
   "file_extension": ".py",
   "mimetype": "text/x-python",
   "name": "python",
   "nbconvert_exporter": "python",
   "pygments_lexer": "ipython3",
   "version": "3.11.5"
  },
  "orig_nbformat": 4
 },
 "nbformat": 4,
 "nbformat_minor": 2
}
