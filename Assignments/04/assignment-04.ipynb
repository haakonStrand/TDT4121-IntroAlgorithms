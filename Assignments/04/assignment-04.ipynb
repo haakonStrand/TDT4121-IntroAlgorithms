{
 "cells": [
  {
   "cell_type": "markdown",
   "metadata": {},
   "source": [
    "# Assignment 4 - Divide and Conquer \n",
    "## Part 2 - Merge Sort"
   ]
  },
  {
   "cell_type": "markdown",
   "metadata": {},
   "source": [
    "We want to implement an algorithm that takes an array and sorts it as follows.\n",
    "\n",
    "With the following input array:\n",
    "\n",
    "```python\n",
    "['c', 'A', 'b', 'C', 42, 'B', 123, 'a', 1]\n",
    "```\n",
    "\n",
    "we want to sort it in the following (ascending) order (`numbers < uppercase letters < lowercase letters`):\n",
    "\n",
    "```python\n",
    "[1, 42, 123, 'A', 'B', 'C', 'a', 'b', 'c']\n",
    "```"
   ]
  },
  {
   "cell_type": "markdown",
   "metadata": {},
   "source": [
    "### 1 - Comparing Values\n",
    "Lets start by creating a function that can take two arbitrary values from this array, and correctly tell us which is smaller.\n",
    "\n",
    "The function below should return `True` if the `smaller` value is actually smaller than `larger`. (by smaller we mean that it should be placed further to the left in the resulting array). \n",
    "\n",
    "If they are equal or `larger` was actually smallest, the function should return `False`"
   ]
  },
  {
   "cell_type": "code",
   "execution_count": 2,
   "metadata": {},
   "outputs": [],
   "source": [
    "def is_smaller(smaller: str, larger: str) -> bool:\n",
    "    if str(smaller).isdigit() and str(larger).isdigit():\n",
    "        return (float(smaller) < float(larger))\n",
    "    elif str(smaller).isdigit() and (str(larger).isdigit() == False):\n",
    "        return True\n",
    "    elif (str(smaller).isdigit() == False)  and str(larger).isdigit():\n",
    "        return False\n",
    "    else:\n",
    "        return (ord(str(smaller)) < ord(str(larger)))"
   ]
  },
  {
   "cell_type": "markdown",
   "metadata": {},
   "source": [
    "### 2 - Merging\n",
    "Next, lets create a function `merge()` that merges two lists in ascending order (using the function above) into a larger array. \n",
    "\n",
    "The function takes three arguments: \n",
    "\n",
    "- `L`: List number 1\n",
    "- `R`: List number 2\n",
    "- `array`: The list to insert the ascending values\n",
    "\n",
    "The function does not need to return anything as the values are stored in `array`. You can assume that \n",
    "\n",
    "```python\n",
    "len(array) = len(L) + len(R)\n",
    "```"
   ]
  },
  {
   "cell_type": "code",
   "execution_count": 3,
   "metadata": {},
   "outputs": [],
   "source": [
    "def merge(L: list, R: list, array: list) -> None:\n",
    "    array = L + R # merge the two lists\n",
    "    pass"
   ]
  },
  {
   "cell_type": "markdown",
   "metadata": {},
   "source": [
    "### 3 - Merge Sort\n",
    "Now we are finally able to implement our recursive `merge_sort()` function. Implement it utelizing the `merge()` function you just created."
   ]
  },
  {
   "cell_type": "code",
   "execution_count": 4,
   "metadata": {},
   "outputs": [],
   "source": [
    "def merge_sort(array: list) -> None:\n",
    "     if len(array) > 1:\n",
    "        half_array = len(array) // 2  # Find the middle of the array\n",
    "        L = array[:half_array] \n",
    "        R = array[half_array:] \n",
    "\n",
    "        # Recursively sort the left and right halves\n",
    "        merge_sort(L)\n",
    "        merge_sort(R)\n",
    "\n",
    "        # Concatenate the two halves using merge\n",
    "        merge(L, R, array)\n",
    "\n",
    "        # Sort the concatenated array in-place using bubble sort or insertion sort (as merge is not sorting)\n",
    "        for i in range(len(array)):\n",
    "            for j in range(i + 1, len(array)):\n",
    "                if not is_smaller(array[i], array[j]):\n",
    "                    # Swap if the order is wrong\n",
    "                    array[i], array[j] = array[j], array[i]  "
   ]
  },
  {
   "cell_type": "markdown",
   "metadata": {},
   "source": [
    "### Running the algorithm\n",
    "At this point you should have an algorithm that is able to sort an array of arbitrary length with all numbers and letters in ascending order. "
   ]
  },
  {
   "cell_type": "code",
   "execution_count": 5,
   "metadata": {},
   "outputs": [
    {
     "name": "stdout",
     "output_type": "stream",
     "text": [
      "Original Array (9 elements): \n",
      "['c', 'A', 'b', 'C', 42, 'B', 123, 'a', 1]\n",
      "Sorted Array: \n",
      "[1, 42, 123, 'A', 'B', 'C', 'a', 'b', 'c']\n"
     ]
    }
   ],
   "source": [
    "def test_sorting(array: list) -> None:\n",
    "    print(f\"Original Array ({len(array)} elements): \\n{array}\")\n",
    "    merge_sort(array)\n",
    "    print(f\"Sorted Array: \\n{array}\")\n",
    "\n",
    "\n",
    "test_sorting([\"c\", \"A\", \"b\", \"C\", 42, \"B\", 123, \"a\", 1])"
   ]
  },
  {
   "cell_type": "code",
   "execution_count": 6,
   "metadata": {},
   "outputs": [
    {
     "name": "stdout",
     "output_type": "stream",
     "text": [
      "Original Array (120 elements): \n",
      "[29, 'h', 9, 24, 'n', 'N', 'F', 58, 54, 'H', 's', 'r', 'U', 'K', 21, 56, 'r', 53, 'r', 'V', 32, 'A', 'g', 'P', 63, 'F', 91, 65, 'j', 'l', 'v', 'p', 'J', 14, 87, 'H', 'F', 90, 'i', 'w', 'c', 39, 'X', 74, 12, 'D', 'Q', 13, 'l', 'i', 'Y', 'f', 'p', 'L', 'H', 11, 'L', 16, 95, 'O', 84, 'Y', 'y', 53, 53, 'v', 'X', 34, 1, 'd', 'O', 'P', 'S', 46, 56, 99, 'm', 'U', 83, 64, 'R', 'I', 'P', 36, 73, 'a', 80, 'T', 'O', 59, 'h', 7, 8, 81, 63, 23, 'U', 'V', 'U', 'D', 'S', 24, 9, 'j', 63, 77, 'M', 'g', 'd', 'm', 'q', 'r', 'R', 3, 42, 12, 81, 36, 28, 'B']\n",
      "Sorted Array: \n",
      "[1, 3, 7, 8, 9, 9, 11, 12, 12, 13, 14, 16, 21, 23, 24, 24, 28, 29, 32, 34, 36, 36, 39, 42, 46, 53, 53, 53, 54, 56, 56, 58, 59, 63, 63, 63, 64, 65, 73, 74, 77, 80, 81, 81, 83, 84, 87, 90, 91, 95, 99, 'A', 'B', 'D', 'D', 'F', 'F', 'F', 'H', 'H', 'H', 'I', 'J', 'K', 'L', 'L', 'M', 'N', 'O', 'O', 'O', 'P', 'P', 'P', 'Q', 'R', 'R', 'S', 'S', 'T', 'U', 'U', 'U', 'U', 'V', 'V', 'X', 'X', 'Y', 'Y', 'a', 'c', 'd', 'd', 'f', 'g', 'g', 'h', 'h', 'i', 'i', 'j', 'j', 'l', 'l', 'm', 'm', 'n', 'p', 'p', 'q', 'r', 'r', 'r', 'r', 's', 'v', 'v', 'w', 'y']\n"
     ]
    }
   ],
   "source": [
    "test_sorting([29, 'h', 9, 24, 'n', 'N', 'F', 58, 54, 'H', 's', 'r', 'U', 'K', 21, 56, 'r', 53, 'r', 'V', 32, 'A', 'g', 'P', 63, 'F', 91, 65, 'j', 'l', 'v', 'p', 'J', 14, 87, 'H', 'F', 90, 'i', 'w', 'c', 39, 'X', 74, 12, 'D', 'Q', 13, 'l', 'i', 'Y', 'f', 'p', 'L', 'H', 11, 'L', 16, 95, 'O', 84, 'Y', 'y', 53, 53, 'v', 'X', 34, 1, 'd', 'O', 'P', 'S', 46, 56, 99, 'm', 'U', 83, 64, 'R', 'I', 'P', 36, 73, 'a', 80, 'T', 'O', 59, 'h', 7, 8, 81, 63, 23, 'U', 'V', 'U', 'D', 'S', 24, 9, 'j', 63, 77, 'M', 'g', 'd', 'm', 'q', 'r', 'R', 3, 42, 12, 81, 36, 28, 'B'])"
   ]
  }
 ],
 "metadata": {
  "kernelspec": {
   "display_name": "Python 3 (ipykernel)",
   "language": "python",
   "name": "python3"
  },
  "language_info": {
   "codemirror_mode": {
    "name": "ipython",
    "version": 3
   },
   "file_extension": ".py",
   "mimetype": "text/x-python",
   "name": "python",
   "nbconvert_exporter": "python",
   "pygments_lexer": "ipython3",
   "version": "3.11.5"
  },
  "vscode": {
   "interpreter": {
    "hash": "aee8b7b246df8f9039afb4144a1f6fd8d2ca17a180786b69acc140d282b71a49"
   }
  }
 },
 "nbformat": 4,
 "nbformat_minor": 4
}
