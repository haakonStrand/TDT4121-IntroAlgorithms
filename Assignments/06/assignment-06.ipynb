{
 "cells": [
  {
   "cell_type": "markdown",
   "metadata": {},
   "source": [
    "# Assignment 6 - Dynamic Programming\n",
    "## Part 1 - Sequence alignment"
   ]
  },
  {
   "cell_type": "markdown",
   "metadata": {},
   "source": [
    "Let's start by looking at the sequence alignment problem as described in the book, this task will be based on the following pseudocode from the book:\n",
    "\n",
    "```\n",
    "Alignment(X,Y)\n",
    "    Array A[0 . . . m,0... n]\n",
    "    Initialize A[i, 0]= iδ for each i\n",
    "    Initialize A[0, j]= jδ for each j\n",
    "    For j = 1, . . . , n\n",
    "        For i = 1, . . . , m\n",
    "            Use the recurrence (6.16) to compute A[i, j]\n",
    "        Endfor\n",
    "    Endfor\n",
    "    Return A[m, n]\n",
    "```\n",
    "With recurrence 6.16 being as follows:\n",
    "$OPT(i, j) = min[α_{x_{i-1}y_{j-1}} + OPT(i − 1, j − 1), δ + OPT(i − 1, j), δ + OPT(i, j − 1)]$\n",
    "\n",
    "Notice that we've made a slight change to the recurrence when compared to the book, this is to fit in with Python syntax\n",
    "\n",
    "As always, make sure that you properly understand the problem before doing these exercises, as it will greatly help you to understand and master the algorithm. "
   ]
  },
  {
   "cell_type": "markdown",
   "metadata": {},
   "source": [
    "### 1.1 - Setting up $\\alpha$ and $\\delta$\n",
    "Lets start by setting up alpha and delta, for this version, we'll have delta be 2. Alpha should return 1 if x and y don't match and 0 if they do. Use a [lambda function](https://www.w3schools.com/python/python_lambda.asp) to implement alpha. "
   ]
  },
  {
   "cell_type": "code",
   "execution_count": null,
   "metadata": {},
   "outputs": [],
   "source": [
    "# TODO change alpha according to the definitions above and in the book\n",
    "alpha = lambda a: a # Just som example code for the lambda function, replace it with the actual implementation\n",
    "delta = 2 # No need to change, delta is just a static value, in this case 2"
   ]
  },
  {
   "cell_type": "markdown",
   "metadata": {},
   "source": [
    "### 1.2 - Setting up A\n",
    "Next we want to set up A according to the pseudocode\n",
    "\n",
    "> Remember that Python is 0-indexed "
   ]
  },
  {
   "cell_type": "code",
   "execution_count": null,
   "metadata": {},
   "outputs": [],
   "source": [
    "def array_setup(n: int, m: int) -> list:\n",
    "    A = None\n",
    "    # TODO\n",
    "    # Array A[0 . . . m,0... n]\n",
    "    # Initialize A[i, 0]= iδ for each i\n",
    "    # Initialize A[0, j]= jδ for each j\n",
    "    return A\n",
    "\n",
    "\n",
    "def array_print(A: list):\n",
    "    \"\"\"Prints a 2D python list of numbers nicely\"\"\"\n",
    "    max_num_len = max((len(str(num)) for row in A for num in row))\n",
    "    for row in A:\n",
    "        print(\" \".join([f\"{' '*(max_num_len-len(str(num)))}{num}\" for num in row]))\n",
    "\n",
    "\n",
    "array_print(array_setup(7, 6))"
   ]
  },
  {
   "cell_type": "markdown",
   "metadata": {},
   "source": [
    "The `array_print()` function is used to test if you got the right output, expected output: \n",
    "```\n",
    " 0  2  4  6  8 10 12 14\n",
    " 2  0  0  0  0  0  0  0\n",
    " 4  0  0  0  0  0  0  0\n",
    " 6  0  0  0  0  0  0  0\n",
    " 8  0  0  0  0  0  0  0\n",
    "10  0  0  0  0  0  0  0\n",
    "12  0  0  0  0  0  0  0\n",
    "```\n"
   ]
  },
  {
   "cell_type": "markdown",
   "metadata": {},
   "source": [
    "### 1.3 - Implementing the algorithm\n",
    "Now after setting up the array, we want to make the algorithm. Follow the pseudocode and implement this final part"
   ]
  },
  {
   "cell_type": "code",
   "execution_count": null,
   "metadata": {},
   "outputs": [],
   "source": [
    "def alignment(x: str, y: str) -> int:\n",
    "    n = len(y)\n",
    "    m = len(x)\n",
    "    A = array_setup(n, m)\n",
    "\n",
    "    # TODO\n",
    "    # For j = 1, . . . , n\n",
    "    #    For i = 1, . . . , m\n",
    "    #         Use the recurrence (6.16) to compute A[i, j]\n",
    "    #    Endfor\n",
    "    # Endfor\n",
    "\n",
    "    array_print(A)\n",
    "    return A[m][n]"
   ]
  },
  {
   "cell_type": "markdown",
   "metadata": {},
   "source": [
    "### 1.4 Testing the algorithm\n",
    "Now let's see if it all works, run the code block below to test the algorithm"
   ]
  },
  {
   "cell_type": "code",
   "execution_count": null,
   "metadata": {},
   "outputs": [],
   "source": [
    "def main():\n",
    "    x = \"PALETTE\"\n",
    "    y = \"PALATE\"\n",
    "    result = alignment(x, y)\n",
    "    print(f\"\\nAlignment: {result}\")\n",
    "\n",
    "\n",
    "main()"
   ]
  },
  {
   "cell_type": "markdown",
   "metadata": {},
   "source": [
    "Expected output:\n",
    "```\n",
    " 0  2  4  6  8 10 12\n",
    " 2  0  2  4  6  8 10\n",
    " 4  2  0  2  4  6  8\n",
    " 6  4  2  0  2  4  6\n",
    " 8  6  4  2  1  3  4\n",
    "10  8  6  4  3  1  3\n",
    "12 10  8  6  5  3  2\n",
    "14 12 10  8  7  5  3\n",
    "\n",
    "Alignment: 3\n",
    "```"
   ]
  },
  {
   "cell_type": "markdown",
   "metadata": {},
   "source": [
    "## Part 2 - Longest common subsequence (LCS)\n",
    "\n",
    "The Longest Common Subsequence (LCS) problem is a classic example of dynamic programming, commonly used in fields such as genetics, data comparison, and more. LCS is the longest subsequence common to all sequences in a set of sequences (often just two sequences). It is the basis of many data comparison programs, such as the UNIX `diff` utility, and is used in `git` for tracking changes made to a file over time. In this exercise, you will implement an algorithm to find the LCS of two strings.\n",
    "\n",
    "#### Example\n",
    "\n",
    "Let `string1` be \"XMJYAUZ\" and `string2` be \"MZJAWXU\". The longest common subsequence is \"MJAU\", which has a length of 4.\n",
    "\n",
    "##### Important\n",
    "- The Longest common **subsequence** differs from the longest common **substring**. Unlike substrings, subsequences are not required to occupy consecutive positions within the original sequences.\n",
    "- Note that \"MJAU\" is **not** a substring of either `string1` or `string2`. However, the letters \"M\", \"J\", \"A\" and \"U\" occurs in sequence (one after another, from left to right) which is the property we care about for this problem.\n",
    "\n",
    "#### Overview\n",
    "\n",
    "1. We begin by creating a LCS table which is used to store the LCS length for each index of the strings. In the table below, the $i$-th row and $j$-th column shows the length of the LCS between $X_{1..i}$ and $Y_{1..j}$ (where $X$ represents `string1` and $Y$ represents `string2`).\n",
    "\n",
    "![table]( data:image/png;base64,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)\n",
    "\n",
    "2. We will use this table to print the LCS length. This is trivial after having constructed the table, since the length will be the number in the last row and column in the table.\n",
    "\n",
    "3. We will backtrack through the row- and column indices of the table to find matching pairs of letters. This will give us the (reversed) longest common substring. We will use this to return the text of the LCS."
   ]
  },
  {
   "cell_type": "markdown",
   "metadata": {},
   "source": [
    "### 2.1 - Create LCS table\n",
    "\n",
    "Use dynamic programming to create a table and fill it to compute the LCS length."
   ]
  },
  {
   "cell_type": "code",
   "execution_count": null,
   "metadata": {},
   "outputs": [],
   "source": [
    "def lcs_table(string1, string2):\n",
    "    m, n = len(string1), len(string2)\n",
    "\n",
    "    # TODO\n",
    "    # Create a 2D array with dimensions len(string1) + 1 and len(string2) + 1\n",
    "    # Each entry in the array should be initialized to 0\n",
    "\n",
    "    # Fill in the table using dynamic programming to compute LCS length\n",
    "    for i in range(m + 1):\n",
    "        for j in range(n + 1):\n",
    "            if i == 0 or j == 0:\n",
    "                # TODO\n",
    "                # Base case: The LCS of a string with an empty string is 0\n",
    "            elif string1[i - 1] == string2[j - 1]:\n",
    "                # TODO\n",
    "                # Characters match, extend the LCS\n",
    "            else:\n",
    "                # TODO\n",
    "                # Characters don't match, choose the maximum of the two adjacent cells\n",
    "\n",
    "    # Return the table\n",
    "    return table\n",
    "\n",
    "# Example usage\n",
    "sequence_A = \"XMJYAUZ\"\n",
    "sequence_B = \"MZJAWXU\"\n",
    "table = lcs_table(sequence_A, sequence_B)\n",
    "for row in table:\n",
    "    print(*row)"
   ]
  },
  {
   "cell_type": "markdown",
   "metadata": {},
   "source": [
    "Expected output:\n",
    "```\n",
    "0 0 0 0 0 0 0 0\n",
    "0 0 0 0 0 0 1 1\n",
    "0 1 1 1 1 1 1 1\n",
    "0 1 1 2 2 2 2 2\n",
    "0 1 1 2 2 2 2 2\n",
    "0 1 1 2 3 3 3 3\n",
    "0 1 1 2 3 3 3 4\n",
    "0 1 2 2 3 3 3 4\n",
    "```"
   ]
  },
  {
   "cell_type": "markdown",
   "metadata": {},
   "source": [
    "### 2.2 Return length of LCS\n",
    "\n",
    "Use table to return the length of the LCS for the two input strings."
   ]
  },
  {
   "cell_type": "code",
   "execution_count": null,
   "metadata": {},
   "outputs": [],
   "source": [
    "def lcs_length(string1, string2):\n",
    "    # TODO\n",
    "    # Get the LCS table\n",
    "    # Return the length of the LCS\n",
    "\n",
    "# Example usage\n",
    "sequence_A = \"XMJYAUZ\"\n",
    "sequence_B = \"MZJAWXU\"\n",
    "length = lcs_length(sequence_A, sequence_B)\n",
    "print(f\"Length of LCS: {length}\")"
   ]
  },
  {
   "cell_type": "markdown",
   "metadata": {},
   "source": [
    "Expected output:\n",
    "```\n",
    "Length of LCS: 4\n",
    "```"
   ]
  },
  {
   "cell_type": "markdown",
   "metadata": {},
   "source": [
    "### 2.3 Find the LCS"
   ]
  },
  {
   "cell_type": "markdown",
   "metadata": {},
   "source": [
    "Create a function that returns the LCS as a string."
   ]
  },
  {
   "cell_type": "code",
   "execution_count": null,
   "metadata": {},
   "outputs": [],
   "source": [
    "def lcs(string1, string2):\n",
    "    # TODO\n",
    "    # Get the LCS table\n",
    "\n",
    "    # Create an empty array to store the LCS string\n",
    "    lcs = []\n",
    "\n",
    "    # Construct the LCS by backtracking\n",
    "    # i.e. we start at the last indices of the table and look for matches as we move forward towards the first indices\n",
    "    i, j = len(string1), len(string2)\n",
    "    while i > 0 and j > 0:\n",
    "        # TODO\n",
    "        # If the characters match, move diagonally up and left\n",
    "        # Otherwise, move in the direction of the larger adjacent cell\n",
    "    \n",
    "    # TODO\n",
    "    # Reverse the LCS string and return it\n",
    "\n",
    "# Example usage\n",
    "sequence_A = \"XMJYAUZ\"\n",
    "sequence_B = \"MZJAWXU\"\n",
    "text = lcs(sequence_A, sequence_B)\n",
    "print(f\"String of LCS: {text}\")"
   ]
  },
  {
   "cell_type": "markdown",
   "metadata": {},
   "source": [
    "Expected output:\n",
    "```\n",
    "String of LCS: MJAU\n",
    "```"
   ]
  }
 ],
 "metadata": {
  "kernelspec": {
   "display_name": "Python 3 (ipykernel)",
   "language": "python",
   "name": "python3"
  },
  "language_info": {
   "codemirror_mode": {
    "name": "ipython",
    "version": 3
   },
   "file_extension": ".py",
   "mimetype": "text/x-python",
   "name": "python",
   "nbconvert_exporter": "python",
   "pygments_lexer": "ipython3",
   "version": "3.12.6"
  },
  "vscode": {
   "interpreter": {
    "hash": "aee8b7b246df8f9039afb4144a1f6fd8d2ca17a180786b69acc140d282b71a49"
   }
  }
 },
 "nbformat": 4,
 "nbformat_minor": 4
}
